{
 "cells": [
  {
   "cell_type": "code",
   "execution_count": 15,
   "metadata": {},
   "outputs": [],
   "source": [
    "def count_down(start):\n",
    "    \"\"\" Count down from a number  \"\"\"\n",
    "    print(start)\n",
    "    # call the count_down if the next\n",
    "    # number is greater than 0\n",
    "    next = start - 1\n",
    "    if next > 0:\n",
    "        count_down(next)"
   ]
  },
  {
   "cell_type": "code",
   "execution_count": 16,
   "metadata": {},
   "outputs": [
    {
     "name": "stdout",
     "output_type": "stream",
     "text": [
      "4\n",
      "3\n",
      "2\n",
      "1\n"
     ]
    }
   ],
   "source": [
    "count_down(4)"
   ]
  },
  {
   "cell_type": "code",
   "execution_count": 19,
   "metadata": {},
   "outputs": [],
   "source": [
    "def sum(n):\n",
    "    return n + sum(n-1) if n > 0 else 0"
   ]
  },
  {
   "cell_type": "code",
   "execution_count": 20,
   "metadata": {},
   "outputs": [
    {
     "name": "stdout",
     "output_type": "stream",
     "text": [
      "5050\n"
     ]
    }
   ],
   "source": [
    "result = sum(100)\n",
    "print(result)"
   ]
  },
  {
   "cell_type": "code",
   "execution_count": 27,
   "metadata": {},
   "outputs": [],
   "source": [
    "def rec(n):\n",
    "    if n==1 :\n",
    "        return 1    # This is a Base Case\n",
    "    else:\n",
    "        return (n+rec(n-1))"
   ]
  },
  {
   "cell_type": "code",
   "execution_count": 28,
   "metadata": {},
   "outputs": [
    {
     "name": "stdout",
     "output_type": "stream",
     "text": [
      "Sum of series from 1 to   34  is : 595\n"
     ]
    }
   ],
   "source": [
    "last = int(input(\"Enter the upper limit\"))\n",
    "s = rec(last)\n",
    "print(\"Sum of series from 1 to  \", last,\" is :\", s)"
   ]
  },
  {
   "cell_type": "markdown",
   "metadata": {},
   "source": [
    "So rec is again called with value 3. So this goes on and on until the value of n reduces to 1, and the base case is hit, and 1 is returned. No variable s gets the value 10 returned., which then prints the sum of the series in the next line."
   ]
  },
  {
   "cell_type": "code",
   "execution_count": 48,
   "metadata": {},
   "outputs": [],
   "source": [
    "def gcd(p,q):\n",
    "   if q < 1 :\n",
    "        return p\n",
    "   return gcd(q,p%q)"
   ]
  },
  {
   "cell_type": "code",
   "execution_count": 47,
   "metadata": {},
   "outputs": [
    {
     "data": {
      "text/plain": [
       "2"
      ]
     },
     "execution_count": 47,
     "metadata": {},
     "output_type": "execute_result"
    }
   ],
   "source": [
    "gcd(6,4)"
   ]
  },
  {
   "cell_type": "markdown",
   "metadata": {},
   "source": [
    "En return _q_ toma el valor de _p_, entonces al final entrega el valor de **q** cuando **p%q** es menor que 1"
   ]
  },
  {
   "cell_type": "code",
   "execution_count": 1,
   "metadata": {},
   "outputs": [],
   "source": [
    "def factorial(n):\n",
    "    print(f\"factorial() called with n = {n}\")\n",
    "    return_value = 1 if n <= 1 else n * factorial(n -1)\n",
    "    print(f\"-> factorial({n}) returns {return_value}\")\n",
    "    return return_value"
   ]
  },
  {
   "cell_type": "code",
   "execution_count": null,
   "metadata": {},
   "outputs": [],
   "source": [
    "factorial(3)"
   ]
  },
  {
   "cell_type": "code",
   "execution_count": 6,
   "metadata": {},
   "outputs": [
    {
     "name": "stdout",
     "output_type": "stream",
     "text": [
      "Recursive:\n"
     ]
    },
    {
     "data": {
      "text/plain": [
       "7.508117094999761"
      ]
     },
     "execution_count": 6,
     "metadata": {},
     "output_type": "execute_result"
    }
   ],
   "source": [
    "setup_string = \"\"\"\n",
    "print(\"Recursive:\")\n",
    "def factorial(n):\n",
    "    return 1 if n <= 1 else n * factorial(n - 1)\n",
    "\"\"\"\n",
    "\n",
    "from timeit import timeit\n",
    "timeit(\"factorial(4)\", setup=setup_string, number=10000000)"
   ]
  },
  {
   "cell_type": "code",
   "execution_count": 8,
   "metadata": {},
   "outputs": [],
   "source": [
    "names = [\n",
    "    \"Adam\",\n",
    "    [ \"Bob\",\n",
    "        [   \"Chet\",   \"Cat\",  ],\n",
    "        \"Barb\", \"Bert\"  ],\n",
    "    \"Alex\",\n",
    "    [   \"Bea\", \"Bill\" ],\n",
    "    \"Ann\"]"
   ]
  },
  {
   "cell_type": "code",
   "execution_count": 9,
   "metadata": {},
   "outputs": [
    {
     "name": "stdout",
     "output_type": "stream",
     "text": [
      "0 Adam\n",
      "1 ['Bob', ['Chet', 'Cat'], 'Barb', 'Bert']\n",
      "2 Alex\n",
      "3 ['Bea', 'Bill']\n",
      "4 Ann\n"
     ]
    }
   ],
   "source": [
    "for index, item in enumerate(names):\n",
    "    print(index, item)"
   ]
  },
  {
   "cell_type": "code",
   "execution_count": 14,
   "metadata": {},
   "outputs": [],
   "source": [
    "def count_leaf_items(item_list):\n",
    "    \"\"\"Recursively counts and returns the\n",
    "       number of leaf items in a (potentially\n",
    "       nested) list.\n",
    "    \"\"\"\n",
    "    print(f\"List: {item_list}\")\n",
    "    count = 0\n",
    "    for item in item_list:\n",
    "        if isinstance(item, list):\n",
    "            print(\"Encountered sublist\")\n",
    "            count += count_leaf_items(item)\n",
    "        else:\n",
    "            print(f\"Counted leaf item \\\"{item}\\\"\")\n",
    "            count += 1\n",
    "    print(f\"-> Returning count {count}\")\n",
    "    return count"
   ]
  },
  {
   "cell_type": "code",
   "execution_count": 15,
   "metadata": {},
   "outputs": [
    {
     "name": "stdout",
     "output_type": "stream",
     "text": [
      "List: ['Adam', ['Bob', ['Chet', 'Cat'], 'Barb', 'Bert'], 'Alex', ['Bea', 'Bill'], 'Ann']\n",
      "Counted leaf item \"Adam\"\n",
      "Encountered sublist\n",
      "List: ['Bob', ['Chet', 'Cat'], 'Barb', 'Bert']\n",
      "Counted leaf item \"Bob\"\n",
      "Encountered sublist\n",
      "List: ['Chet', 'Cat']\n",
      "Counted leaf item \"Chet\"\n",
      "Counted leaf item \"Cat\"\n",
      "-> Returning count 2\n",
      "Counted leaf item \"Barb\"\n",
      "Counted leaf item \"Bert\"\n",
      "-> Returning count 5\n",
      "Counted leaf item \"Alex\"\n",
      "Encountered sublist\n",
      "List: ['Bea', 'Bill']\n",
      "Counted leaf item \"Bea\"\n",
      "Counted leaf item \"Bill\"\n",
      "-> Returning count 2\n",
      "Counted leaf item \"Ann\"\n",
      "-> Returning count 10\n"
     ]
    },
    {
     "data": {
      "text/plain": [
       "10"
      ]
     },
     "execution_count": 15,
     "metadata": {},
     "output_type": "execute_result"
    }
   ],
   "source": [
    "count_leaf_items(names)"
   ]
  },
  {
   "cell_type": "code",
   "execution_count": 16,
   "metadata": {},
   "outputs": [],
   "source": [
    "import statistics\n",
    "\n",
    "def quicksort(numbers):\n",
    "    if len(numbers) <= 1:\n",
    "        return numbers\n",
    "    else:\n",
    "        pivot = statistics.median(\n",
    "            [\n",
    "                numbers[0],\n",
    "                numbers[len(numbers) // 2],\n",
    "                numbers[-1]\n",
    "            ]\n",
    "        )\n",
    "        items_less, pivot_items, items_greater = (\n",
    "            [n for n in numbers if n < pivot],\n",
    "            [n for n in numbers if n == pivot],\n",
    "            [n for n in numbers if n > pivot]\n",
    "        )\n",
    "\n",
    "        return (\n",
    "            quicksort(items_less) +\n",
    "            pivot_items +\n",
    "            quicksort(items_greater)\n",
    "        )"
   ]
  },
  {
   "cell_type": "code",
   "execution_count": 17,
   "metadata": {},
   "outputs": [],
   "source": [
    "import random\n",
    "\n",
    "def get_random_numbers(length, minimum=1, maximum=100):\n",
    "    numbers = []\n",
    "    for _ in range(length):\n",
    "        numbers.append(random.randint(minimum, maximum))\n",
    "\n",
    "    return numbers"
   ]
  },
  {
   "cell_type": "code",
   "execution_count": 20,
   "metadata": {},
   "outputs": [],
   "source": [
    "numbers = get_random_numbers(10, -500, 500)"
   ]
  },
  {
   "cell_type": "code",
   "execution_count": 21,
   "metadata": {},
   "outputs": [
    {
     "data": {
      "text/plain": [
       "[-481, -192, -139, -136, -134, -104, -78, 120, 225, 309]"
      ]
     },
     "execution_count": 21,
     "metadata": {},
     "output_type": "execute_result"
    }
   ],
   "source": [
    "quicksort(numbers)"
   ]
  },
  {
   "cell_type": "code",
   "execution_count": 2,
   "metadata": {},
   "outputs": [],
   "source": [
    "houses = [\"Eric's house\", \"Kenny's house\", \"Kyle's house\", \"Stan's house\"]\n",
    "\n",
    "# Each function call represents an elf doing his work \n",
    "def deliver_presents_recursively(houses):\n",
    "    # Worker elf doing his work\n",
    "    if len(houses) == 1:\n",
    "        house = houses[0]\n",
    "        print(\"Delivering presents to\", house)\n",
    "    # Manager elf doing his work\n",
    "    else:\n",
    "        mid = len(houses) // 2\n",
    "        first_half = houses[:mid]\n",
    "        second_half = houses[mid:]\n",
    "        # Divides his work among two elves\n",
    "        deliver_presents_recursively(first_half)\n",
    "        deliver_presents_recursively(second_half)"
   ]
  },
  {
   "cell_type": "code",
   "execution_count": 4,
   "metadata": {},
   "outputs": [
    {
     "name": "stdout",
     "output_type": "stream",
     "text": [
      "Delivering presents to Eric's house\n",
      "Delivering presents to Kenny's house\n",
      "Delivering presents to Kyle's house\n",
      "Delivering presents to Stan's house\n"
     ]
    }
   ],
   "source": [
    "deliver_presents_recursively(houses)"
   ]
  },
  {
   "cell_type": "code",
   "execution_count": 9,
   "metadata": {},
   "outputs": [],
   "source": [
    "def sum_recursive(current_number,accumulated_sum):\n",
    "    if current_number == 11:\n",
    "        return accumulated_sum\n",
    "    # Recursive case\n",
    "    else:\n",
    "        accumulated_sum = accumulated_sum + current_number\n",
    "        current_number = current_number + 1\n",
    "        return sum_recursive(current_number,accumulated_sum)"
   ]
  },
  {
   "cell_type": "code",
   "execution_count": 10,
   "metadata": {},
   "outputs": [
    {
     "data": {
      "text/plain": [
       "54"
      ]
     },
     "execution_count": 10,
     "metadata": {},
     "output_type": "execute_result"
    }
   ],
   "source": [
    "sum_recursive(2,0)"
   ]
  },
  {
   "cell_type": "code",
   "execution_count": 11,
   "metadata": {},
   "outputs": [],
   "source": [
    "def list_sum_recursive(input_list):\n",
    "    # Base case\n",
    "    if input_list == []:\n",
    "        return 0\n",
    "    # Recursive case\n",
    "    # Decompose the original problem into simpler instances of the same problem\n",
    "    # by making use of the fact that the input is a recursive data structure\n",
    "    # and can be deﬁned in terms of a smaller version of itself\n",
    "    else:\n",
    "        head = input_list[0]\n",
    "        smaller_list = input_list[1:]\n",
    "        return head + list_sum_recursive(smaller_list)"
   ]
  },
  {
   "cell_type": "code",
   "execution_count": 12,
   "metadata": {},
   "outputs": [
    {
     "data": {
      "text/plain": [
       "83"
      ]
     },
     "execution_count": 12,
     "metadata": {},
     "output_type": "execute_result"
    }
   ],
   "source": [
    "list_sum_recursive([1,2,3,4,6,67])"
   ]
  },
  {
   "cell_type": "code",
   "execution_count": null,
   "metadata": {},
   "outputs": [],
   "source": []
  },
  {
   "cell_type": "code",
   "execution_count": null,
   "metadata": {},
   "outputs": [],
   "source": []
  }
 ],
 "metadata": {
  "interpreter": {
   "hash": "adfbc6bd099f704ab14182b7345a86a52ff1c1f24dd9006cbf840de008a9c47e"
  },
  "kernelspec": {
   "display_name": "Python 3.9.10 ('base')",
   "language": "python",
   "name": "python3"
  },
  "language_info": {
   "codemirror_mode": {
    "name": "ipython",
    "version": 3
   },
   "file_extension": ".py",
   "mimetype": "text/x-python",
   "name": "python",
   "nbconvert_exporter": "python",
   "pygments_lexer": "ipython3",
   "version": "3.9.10"
  },
  "orig_nbformat": 4
 },
 "nbformat": 4,
 "nbformat_minor": 2
}
